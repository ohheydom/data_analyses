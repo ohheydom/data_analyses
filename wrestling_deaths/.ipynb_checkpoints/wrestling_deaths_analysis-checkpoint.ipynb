{
 "cells": [
  {
   "cell_type": "markdown",
   "metadata": {},
   "source": [
    "# Do Wrestlers Live Shorter Lives Than Other Athletes??"
   ]
  },
  {
   "cell_type": "code",
   "execution_count": 47,
   "metadata": {
    "collapsed": false
   },
   "outputs": [],
   "source": [
    "import pandas as pd\n",
    "import datetime\n",
    "\n",
    "mlb = pd.read_csv('csvs/mlb.csv')\n",
    "nfl = pd.read_csv('csvs/nfl.csv')"
   ]
  },
  {
   "cell_type": "code",
   "execution_count": 50,
   "metadata": {
    "collapsed": false
   },
   "outputs": [],
   "source": [
    "mlb = mlb[pd.notnull(mlb['death_year'])]\n",
    "mlb = mlb[['name_first', 'name_last', 'birth_year', 'birth_month', 'birth_day', 'death_year', 'death_month', 'death_day']]\n",
    "\n",
    "nfl = nfl[['first_name', 'last_name', 'birth_date', 'death_date']]\n",
    "nfl = nfl[pd.notnull(nfl['death_date'])]"
   ]
  },
  {
   "cell_type": "code",
   "execution_count": null,
   "metadata": {
    "collapsed": true
   },
   "outputs": [],
   "source": []
  }
 ],
 "metadata": {
  "kernelspec": {
   "display_name": "Python 2",
   "language": "python",
   "name": "python2"
  },
  "language_info": {
   "codemirror_mode": {
    "name": "ipython",
    "version": 2
   },
   "file_extension": ".py",
   "mimetype": "text/x-python",
   "name": "python",
   "nbconvert_exporter": "python",
   "pygments_lexer": "ipython2",
   "version": "2.7.10"
  }
 },
 "nbformat": 4,
 "nbformat_minor": 0
}
