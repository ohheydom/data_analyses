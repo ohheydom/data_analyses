{
 "cells": [
  {
   "cell_type": "markdown",
   "metadata": {},
   "source": [
    "# Do Wrestlers Live Shorter Lives Than Other Athletes??"
   ]
  },
  {
   "cell_type": "markdown",
   "metadata": {},
   "source": [
    "This is still a complete work in progress. I'm currently working on scraping data for NBA and NHL players along with wrestling data. "
   ]
  },
  {
   "cell_type": "code",
   "execution_count": 324,
   "metadata": {
    "collapsed": false
   },
   "outputs": [],
   "source": [
    "import pandas as pd\n",
    "import numpy as np\n",
    "\n",
    "from datetime import datetime\n",
    "\n",
    "mlb = pd.read_csv('csvs/mlb.csv')\n",
    "nfl = pd.read_csv('csvs/nfl.csv')\n",
    "\n",
    "#earliest birth year to start with\n",
    "start_year = 1900"
   ]
  },
  {
   "cell_type": "code",
   "execution_count": 219,
   "metadata": {
    "collapsed": true
   },
   "outputs": [],
   "source": [
    "# Helper methods\n",
    "\n",
    "def print_full(x):\n",
    "    pd.set_option('display.max_rows', len(x))\n",
    "    print(x)\n",
    "    pd.reset_option('display.max_rows')"
   ]
  },
  {
   "cell_type": "markdown",
   "metadata": {},
   "source": [
    "### MLB Data"
   ]
  },
  {
   "cell_type": "code",
   "execution_count": 327,
   "metadata": {
    "collapsed": false
   },
   "outputs": [
    {
     "name": "stdout",
     "output_type": "stream",
     "text": [
      "Average Age: 70.6959346871\n"
     ]
    }
   ],
   "source": [
    "mlb = mlb[['name_first', 'name_last', 'birth_year', 'birth_month', 'birth_day', 'death_year', 'death_month', 'death_day']]\n",
    "\n",
    "mlb = mlb[pd.notnull(mlb['birth_year'])]\n",
    "mlb = mlb[pd.notnull(mlb['death_year'])]\n",
    "\n",
    "mlb = mlb[mlb['birth_year'] > start_year]\n",
    "mlb['birth_day'].fillna(1, inplace=True)\n",
    "mlb['birth_month'].fillna(1, inplace=True)\n",
    "mlb['death_day'].fillna(1, inplace=True)\n",
    "mlb['death_month'].fillna(1, inplace=True)\n",
    "\n",
    "mlb['birth_year'] = mlb['birth_year'].astype(int)\n",
    "mlb['birth_day'] = mlb['birth_day'].astype(int)\n",
    "mlb['birth_month'] = mlb['birth_month'].astype(int)\n",
    "mlb['death_year'] = mlb['death_year'].astype(int)\n",
    "mlb['death_day'] = mlb['death_day'].real.astype(int)\n",
    "mlb['death_month'] = mlb['death_month'].astype(int)\n",
    "\n",
    "calculate_age = lambda x: (datetime(x['death_year'], x['death_month'], x['death_day']) \\\n",
    "    - datetime(x['birth_year'], x['birth_month'], x['birth_day'])).days\n",
    "\n",
    "mlb['age'] = mlb.apply(calculate_age, axis=1)\n",
    "print \"Average Age: {}\".format(np.mean(mlb['age']) / 365.25)"
   ]
  },
  {
   "cell_type": "markdown",
   "metadata": {
    "collapsed": true
   },
   "source": [
    "### NFL Data"
   ]
  },
  {
   "cell_type": "code",
   "execution_count": 330,
   "metadata": {
    "collapsed": false
   },
   "outputs": [
    {
     "name": "stdout",
     "output_type": "stream",
     "text": [
      "Average Age: 68.3376989158\n"
     ]
    }
   ],
   "source": [
    "# Add recent deaths\n",
    "def add_death(name, death_date):\n",
    "    idx = nfl[nfl['name'] == name].index\n",
    "    if len(idx) == 0:\n",
    "        print \"Not found\"\n",
    "        return\n",
    "    nfl.set_value(idx[0], 'death_date', death_date)\n",
    "    nfl.to_csv('csvs/nfl.csv', index=False)\n",
    "\n",
    "# Clean NFL dates\n",
    "def convert_date(x):\n",
    "    other_format = '%m/%d/%Y'\n",
    "    proper_format = '%Y-%m-%d'\n",
    "    val = x\n",
    "    try:\n",
    "        val = datetime.strptime(x, other_format).strftime(proper_format)\n",
    "    except:\n",
    "        return val\n",
    "    return val\n",
    "\n",
    "def calculate_age(x):\n",
    "    proper_format = '%Y-%m-%d'\n",
    "    birth_date = datetime.strptime(x['birth_date'], proper_format)\n",
    "    death_date = datetime.strptime(x['death_date'], proper_format)\n",
    "    return (death_date - birth_date).days\n",
    "\n",
    "nfl = nfl[['name', 'birth_date', 'death_date']]\n",
    "nfl = nfl[pd.notnull(nfl['birth_date'])]\n",
    "nfl = nfl[pd.notnull(nfl['death_date'])]\n",
    "\n",
    "nfl['death_date'] = nfl['death_date'].apply(convert_date)\n",
    "nfl['birth_date'] = nfl['birth_date'].apply(convert_date)\n",
    "\n",
    "nfl = nfl[nfl['birth_date'] > str(start_year) + \"-01-01\"]\n",
    "\n",
    "nfl['age'] = nfl.apply(calculate_age, axis=1)\n",
    "print \"Average Age: {}\".format(np.mean(nfl['age']) / 365.25)"
   ]
  },
  {
   "cell_type": "markdown",
   "metadata": {},
   "source": [
    "# NBA Data"
   ]
  },
  {
   "cell_type": "code",
   "execution_count": null,
   "metadata": {
    "collapsed": true
   },
   "outputs": [],
   "source": []
  },
  {
   "cell_type": "markdown",
   "metadata": {},
   "source": [
    "## Resources\n",
    "\n",
    "[http://www.wrestlingdata.com/](http://www.wrestlingdata.com/)"
   ]
  },
  {
   "cell_type": "code",
   "execution_count": null,
   "metadata": {
    "collapsed": true
   },
   "outputs": [],
   "source": []
  }
 ],
 "metadata": {
  "kernelspec": {
   "display_name": "Python 2",
   "language": "python",
   "name": "python2"
  },
  "language_info": {
   "codemirror_mode": {
    "name": "ipython",
    "version": 2
   },
   "file_extension": ".py",
   "mimetype": "text/x-python",
   "name": "python",
   "nbconvert_exporter": "python",
   "pygments_lexer": "ipython2",
   "version": "2.7.10"
  }
 },
 "nbformat": 4,
 "nbformat_minor": 0
}
