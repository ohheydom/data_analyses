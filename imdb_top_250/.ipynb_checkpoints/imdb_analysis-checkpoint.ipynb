{
 "cells": [
  {
   "cell_type": "markdown",
   "metadata": {},
   "source": [
    "# Analyzing IMDB's Top 250 Movies"
   ]
  },
  {
   "cell_type": "markdown",
   "metadata": {},
   "source": [
    "This is an analysis of the Internet Movie Database's Top 250 movies scraped on June 7th, 2016. I'm using this notebook as a scratchpad where I'll find interesting trends in the data and transfer over to a webpage."
   ]
  },
  {
   "cell_type": "code",
   "execution_count": 2,
   "metadata": {
    "collapsed": false
   },
   "outputs": [],
   "source": [
    "import numpy as np\n",
    "\n",
    "from pymongo import MongoClient\n",
    "from imdb_data_parser import IMDBDataParser\n",
    "from imdb_scraper import IMDBScraper"
   ]
  },
  {
   "cell_type": "markdown",
   "metadata": {},
   "source": [
    "### Download IMDB Movie Data\n",
    "\n",
    "Download the movie data from IMDB."
   ]
  },
  {
   "cell_type": "code",
   "execution_count": 44,
   "metadata": {
    "collapsed": false
   },
   "outputs": [],
   "source": [
    "#imdb_scraper = IMDBScraper()\n",
    "#imdb_scraper.download_data()"
   ]
  },
  {
   "cell_type": "markdown",
   "metadata": {},
   "source": [
    "### MongoDB\n",
    "\n",
    "Load the MongoDB client and collection. Create the database, parse the movie data and insert it into the collection if the data doesn't already exist. Otherwise, ignore."
   ]
  },
  {
   "cell_type": "code",
   "execution_count": 3,
   "metadata": {
    "collapsed": false
   },
   "outputs": [],
   "source": [
    "client = MongoClient()\n",
    "db = client.imdb\n",
    "collection = db.movies\n",
    "\n",
    "if 'movies' not in db.collection_names():\n",
    "    imdb_parser = IMDBDataParser()\n",
    "    movie_data = imdb_parser.parse_files('pages')\n",
    "    collection.insert_many(movie_data)"
   ]
  },
  {
   "cell_type": "markdown",
   "metadata": {},
   "source": [
    "### Analysis\n",
    "\n",
    "Analyze the data using MongoDB's Aggregation Pipeline"
   ]
  },
  {
   "cell_type": "markdown",
   "metadata": {},
   "source": [
    "_What movie title has the fewest number of letters? What movie title has the highest number of letters?_"
   ]
  },
  {
   "cell_type": "code",
   "execution_count": 18,
   "metadata": {
    "collapsed": false
   },
   "outputs": [
    {
     "name": "stdout",
     "output_type": "stream",
     "text": [
      "Fewest: M\n",
      "Most: Dr. Strangelove or: How I Learned to Stop Worrying and Love the Bomb\n"
     ]
    }
   ],
   "source": [
    "movie_titles = collection.find()\n",
    "fewest = movie_titles[0]['title']\n",
    "most = movie_titles[0]['title']\n",
    "for r in movie_titles:\n",
    "    t = r['title']\n",
    "    if len(t) < len(fewest):\n",
    "        fewest = t\n",
    "    if len(t) > len(most):\n",
    "        most = t\n",
    "print \"Fewest: {}\".format(fewest)\n",
    "print \"Most: {}\".format(most)"
   ]
  },
  {
   "cell_type": "markdown",
   "metadata": {
    "collapsed": true
   },
   "source": [
    "_What are the most and least popular genres?_"
   ]
  },
  {
   "cell_type": "code",
   "execution_count": 7,
   "metadata": {
    "collapsed": false
   },
   "outputs": [
    {
     "name": "stdout",
     "output_type": "stream",
     "text": [
      "Drama: 171\n",
      "Adventure: 64\n",
      "Crime: 55\n",
      "Comedy: 39\n",
      "Action: 37\n",
      "Thriller: 34\n",
      "Mystery: 28\n",
      "Biography: 25\n",
      "Sci-Fi: 24\n",
      "Romance: 21\n",
      "Fantasy: 21\n",
      "Animation: 19\n",
      "War: 18\n",
      "History: 14\n",
      "Family: 13\n",
      "Horror: 9\n",
      "Film-Noir: 8\n",
      "Western: 7\n",
      "Sport: 4\n",
      "Musical: 2\n",
      "Music: 1\n"
     ]
    }
   ],
   "source": [
    "unwind = {'$unwind': '$genres'}\n",
    "group = {'$group' : {'_id': '$genres', 'count': {'$sum': 1}}}\n",
    "sort = {'$sort': {'count': -1}}\n",
    "movie_genres = collection.aggregate([unwind, group, sort])\n",
    "for a in movie_genres:\n",
    "    print \"{}: {}\".format(a['_id'], a['count'])"
   ]
  },
  {
   "cell_type": "markdown",
   "metadata": {},
   "source": [
    "_Which directors have the most films in the Top 250 and what are they?_"
   ]
  },
  {
   "cell_type": "code",
   "execution_count": 5,
   "metadata": {
    "collapsed": false
   },
   "outputs": [
    {
     "name": "stdout",
     "output_type": "stream",
     "text": [
      "Director: Stanley Kubrick\n",
      "Number of movies: 7\n",
      "2001: A Space Odyssey, A Clockwork Orange, Dr. Strangelove or: How I Learned to Stop Worrying and Love the Bomb, Barry Lyndon, The Shining, Full Metal Jacket, Paths of Glory\n",
      "\n",
      "\n",
      "Director: Martin Scorsese\n",
      "Number of movies: 7\n",
      "Shutter Island, Raging Bull, The Wolf of Wall Street, Goodfellas, Taxi Driver, The Departed, Casino\n",
      "\n",
      "\n",
      "Director: Christopher Nolan\n",
      "Number of movies: 7\n",
      "The Prestige, Memento, Batman Begins, The Dark Knight, Interstellar, Inception, The Dark Knight Rises\n",
      "\n",
      "\n",
      "Director: Steven Spielberg\n",
      "Number of movies: 7\n",
      "Catch Me If You Can, Jurassic Park, Schindler's List, Indiana Jones and the Last Crusade, Raiders of the Lost Ark, Jaws, Saving Private Ryan\n",
      "\n",
      "\n",
      "Director: Alfred Hitchcock\n",
      "Number of movies: 7\n",
      "Rear Window, Rebecca, Dial M for Murder, Psycho, North by Northwest, Strangers on a Train, Vertigo\n",
      "\n",
      "\n",
      "Director: Akira Kurosawa\n",
      "Number of movies: 6\n",
      "Throne of Blood, Yojimbo, Seven Samurai, Ran, Rashômon, Ikiru\n",
      "\n",
      "\n",
      "Director: Hayao Miyazaki\n",
      "Number of movies: 6\n",
      "Howl's Moving Castle, Castle in the Sky, Spirited Away, My Neighbor Totoro, Princess Mononoke, Nausicaä of the Valley of the Wind\n",
      "\n",
      "\n",
      "Director: Sergio Leone\n",
      "Number of movies: 5\n",
      "The Good, the Bad and the Ugly, Once Upon a Time in the West, Once Upon a Time in America, A Fistful of Dollars, For a Few Dollars More\n",
      "\n",
      "\n",
      "Director: Billy Wilder\n",
      "Number of movies: 5\n",
      "The Apartment, Some Like It Hot, Witness for the Prosecution, Sunset Blvd., Double Indemnity\n",
      "\n",
      "\n",
      "Director: Charles Chaplin\n",
      "Number of movies: 5\n",
      "The Great Dictator, The Gold Rush, City Lights, Modern Times, The Kid\n",
      "\n",
      "\n",
      "Director: Quentin Tarantino\n",
      "Number of movies: 5\n",
      "Inglourious Basterds, Pulp Fiction, Django Unchained, Reservoir Dogs, Kill Bill: Vol. 1\n",
      "\n",
      "\n",
      "Director: Ridley Scott\n",
      "Number of movies: 4\n",
      "Gladiator, Alien, The Martian, Blade Runner\n",
      "\n",
      "\n",
      "Director: Ingmar Bergman\n",
      "Number of movies: 4\n",
      "Wild Strawberries, Fanny and Alexander, Persona, The Seventh Seal\n",
      "\n",
      "\n",
      "Director: William Wyler\n",
      "Number of movies: 3\n",
      "Roman Holiday, The Best Years of Our Lives, Ben-Hur\n",
      "\n",
      "\n",
      "Director: David Fincher\n",
      "Number of movies: 3\n",
      "Se7en, Gone Girl, Fight Club\n",
      "\n",
      "\n",
      "Director: James Cameron\n",
      "Number of movies: 3\n",
      "Terminator 2: Judgment Day, Aliens, The Terminator\n",
      "\n",
      "\n",
      "Director: Pete Docter\n",
      "Number of movies: 3\n",
      "Monsters, Inc., Inside Out, Up\n",
      "\n",
      "\n",
      "Director: Frank Capra\n",
      "Number of movies: 3\n",
      "It Happened One Night, Mr. Smith Goes to Washington, It's a Wonderful Life\n",
      "\n",
      "\n",
      "Director: Sidney Lumet\n",
      "Number of movies: 3\n",
      "Dog Day Afternoon, Network, 12 Angry Men\n",
      "\n",
      "\n",
      "Director: Francis Ford Coppola\n",
      "Number of movies: 3\n",
      "Apocalypse Now, The Godfather, The Godfather: Part II\n",
      "\n",
      "\n"
     ]
    }
   ],
   "source": [
    "group = {'$group': {'_id': '$director', 'count': {'$sum': 1}, 'titles': {'$push': '$title'}}}\n",
    "sort = {'$sort': {'count': -1}}\n",
    "limit = {'$limit': 20}\n",
    "movie_directors = collection.aggregate([group, sort, limit])\n",
    "for d in movie_directors:\n",
    "    print \"Director: {}\".format(d['_id'])\n",
    "    print \"Number of movies: {}\".format(d['count'])\n",
    "    print ', '.join(d['titles'])\n",
    "    print '\\n'"
   ]
  },
  {
   "cell_type": "markdown",
   "metadata": {},
   "source": [
    "_Which writers have the most films in the Top 250 and what are they?_"
   ]
  },
  {
   "cell_type": "code",
   "execution_count": 4,
   "metadata": {
    "collapsed": false
   },
   "outputs": [
    {
     "name": "stdout",
     "output_type": "stream",
     "text": [
      "Writer: Stanley Kubrick\n",
      "Number of movies: 7\n",
      "2001: A Space Odyssey, A Clockwork Orange, Dr. Strangelove or: How I Learned to Stop Worrying and Love the Bomb, Barry Lyndon, The Shining, Full Metal Jacket, Paths of Glory\n",
      "\n",
      "\n",
      "Writer: Hayao Miyazaki\n",
      "Number of movies: 7\n",
      "Howl's Moving Castle, Castle in the Sky, Spirited Away, My Neighbor Totoro, Princess Mononoke, Nausicaä of the Valley of the Wind, Nausicaä of the Valley of the Wind\n",
      "\n",
      "\n",
      "Writer: Akira Kurosawa\n",
      "Number of movies: 6\n",
      "Yojimbo, Yojimbo, Seven Samurai, Ran, Rashômon, Ikiru\n",
      "\n",
      "\n",
      "Writer: Quentin Tarantino\n",
      "Number of movies: 6\n",
      "Inglourious Basterds, Pulp Fiction, Django Unchained, Reservoir Dogs, Kill Bill: Vol. 1, Kill Bill: Vol. 1\n",
      "\n",
      "\n",
      "Writer: Christopher Nolan\n",
      "Number of movies: 6\n",
      "The Prestige, Memento, The Dark Knight, Interstellar, Inception, The Dark Knight Rises\n",
      "\n",
      "\n",
      "Writer: Billy Wilder\n",
      "Number of movies: 5\n",
      "The Apartment, Some Like It Hot, Witness for the Prosecution, Sunset Blvd., Double Indemnity\n",
      "\n",
      "\n",
      "Writer: Pete Docter\n",
      "Number of movies: 5\n",
      "Monsters, Inc., Toy Story, Inside Out, Up, WALL·E\n",
      "\n",
      "\n",
      "Writer: Charles Chaplin\n",
      "Number of movies: 5\n",
      "The Great Dictator, The Gold Rush, City Lights, Modern Times, The Kid\n",
      "\n",
      "\n",
      "Writer: Jonathan Nolan\n",
      "Number of movies: 5\n",
      "The Prestige, Memento, The Dark Knight, Interstellar, The Dark Knight Rises\n",
      "\n",
      "\n",
      "Writer: Ingmar Bergman\n",
      "Number of movies: 5\n",
      "Wild Strawberries, Fanny and Alexander, Persona, The Seventh Seal, The Seventh Seal\n",
      "\n",
      "\n",
      "Writer: Lawrence Kasdan\n",
      "Number of movies: 4\n",
      "Star Wars: Episode V - The Empire Strikes Back, Star Wars: The Force Awakens, Star Wars: Episode VI - Return of the Jedi, Raiders of the Lost Ark\n",
      "\n",
      "\n",
      "Writer: George Lucas\n",
      "Number of movies: 4\n",
      "Star Wars: Episode IV - A New Hope, Indiana Jones and the Last Crusade, Star Wars: Episode VI - Return of the Jedi, Raiders of the Lost Ark\n",
      "\n",
      "\n",
      "Writer: Andrew Stanton\n",
      "Number of movies: 4\n",
      "Finding Nemo, Finding Nemo, Toy Story 3, WALL·E\n",
      "\n",
      "\n",
      "Writer: Nicholas Pileggi\n",
      "Number of movies: 4\n",
      "Goodfellas, Goodfellas, Casino, Casino\n",
      "\n",
      "\n",
      "Writer: Stephen King\n",
      "Number of movies: 4\n",
      "The Shawshank Redemption, The Shining, Stand by Me, The Green Mile\n",
      "\n",
      "\n",
      "Writer: Fran Walsh\n",
      "Number of movies: 3\n",
      "The Lord of the Rings: The Fellowship of the Ring, The Lord of the Rings: The Two Towers, The Lord of the Rings: The Return of the King\n",
      "\n",
      "\n",
      "Writer: James Cameron\n",
      "Number of movies: 3\n",
      "Terminator 2: Judgment Day, Aliens, The Terminator\n",
      "\n",
      "\n",
      "Writer: William Goldman\n",
      "Number of movies: 3\n",
      "Butch Cassidy and the Sundance Kid, The Princess Bride, The Princess Bride\n",
      "\n",
      "\n",
      "Writer: J.R.R. Tolkien\n",
      "Number of movies: 3\n",
      "The Lord of the Rings: The Fellowship of the Ring, The Lord of the Rings: The Two Towers, The Lord of the Rings: The Return of the King\n",
      "\n",
      "\n",
      "Writer: David Webb Peoples\n",
      "Number of movies: 3\n",
      "Blade Runner, Unforgiven, Twelve Monkeys\n",
      "\n",
      "\n"
     ]
    }
   ],
   "source": [
    "unwind = {'$unwind': '$writer'}\n",
    "group = {'$group': {'_id': '$writer', 'count': {'$sum': 1}, 'titles': {'$push': '$title'}}}\n",
    "sort = {'$sort': {'count': -1}}\n",
    "limit = {'$limit': 20}\n",
    "movie_writers = collection.aggregate([unwind, group, sort, limit])\n",
    "for d in movie_writers:\n",
    "    print \"Writer: {}\".format(d['_id'].encode('utf-8'))\n",
    "    print \"Number of movies: {}\".format(d['count'])\n",
    "    print ', '.join(d['titles'])\n",
    "    print '\\n'"
   ]
  },
  {
   "cell_type": "markdown",
   "metadata": {},
   "source": [
    "_Which actors/actresses have appeared in the most films in the Top 250? What movies have they appeared in?_"
   ]
  },
  {
   "cell_type": "code",
   "execution_count": 6,
   "metadata": {
    "collapsed": false
   },
   "outputs": [
    {
     "name": "stdout",
     "output_type": "stream",
     "text": [
      "Actor: Robert De Niro\n",
      "Number of movies: 8\n",
      "Once Upon a Time in America, Raging Bull, Goodfellas, The Deer Hunter, Heat, The Godfather: Part II, Taxi Driver, Casino\n",
      "\n",
      "\n",
      "Actor: Harrison Ford\n",
      "Number of movies: 8\n",
      "Star Wars: Episode V - The Empire Strikes Back, Star Wars: Episode IV - A New Hope, Apocalypse Now, Indiana Jones and the Last Crusade, Star Wars: The Force Awakens, Star Wars: Episode VI - Return of the Jedi, Raiders of the Lost Ark, Blade Runner\n",
      "\n",
      "\n",
      "Actor: Morgan Freeman\n",
      "Number of movies: 7\n",
      "Million Dollar Baby, Batman Begins, The Shawshank Redemption, Se7en, The Dark Knight, Unforgiven, The Dark Knight Rises\n",
      "\n",
      "\n",
      "Actor: Leonardo DiCaprio\n",
      "Number of movies: 7\n",
      "Catch Me If You Can, Shutter Island, Django Unchained, The Wolf of Wall Street, Inception, The Revenant, The Departed\n",
      "\n",
      "\n",
      "Actor: Alec Guinness\n",
      "Number of movies: 6\n",
      "Star Wars: Episode V - The Empire Strikes Back, Star Wars: Episode IV - A New Hope, Kind Hearts and Coronets, Star Wars: Episode VI - Return of the Jedi, Lawrence of Arabia, The Bridge on the River Kwai\n",
      "\n",
      "\n",
      "Actor: Tom Hanks\n",
      "Number of movies: 6\n",
      "Catch Me If You Can, Forrest Gump, Toy Story, The Green Mile, Toy Story 3, Saving Private Ryan\n",
      "\n",
      "\n",
      "Actor: Clint Eastwood\n",
      "Number of movies: 6\n",
      "The Good, the Bad and the Ugly, Million Dollar Baby, Gran Torino, A Fistful of Dollars, Unforgiven, For a Few Dollars More\n",
      "\n",
      "\n",
      "Actor: Michael Caine\n",
      "Number of movies: 6\n",
      "The Prestige, Batman Begins, The Dark Knight, Interstellar, Inception, The Dark Knight Rises\n",
      "\n",
      "\n",
      "Actor: Robert Duvall\n",
      "Number of movies: 5\n",
      "To Kill a Mockingbird, Apocalypse Now, The Godfather, Network, The Godfather: Part II\n",
      "\n",
      "\n",
      "Actor: Christian Bale\n",
      "Number of movies: 5\n",
      "The Prestige, Howl's Moving Castle, Batman Begins, The Dark Knight, The Dark Knight Rises\n",
      "\n",
      "\n",
      "Actor: John Ratzenberger\n",
      "Number of movies: 5\n",
      "Monsters, Inc., Toy Story, Toy Story 3, Up, WALL·E\n",
      "\n",
      "\n",
      "Actor: Takashi Shimura\n",
      "Number of movies: 5\n",
      "Throne of Blood, Yojimbo, Seven Samurai, Rashômon, Ikiru\n",
      "\n",
      "\n",
      "Actor: Matt Damon\n",
      "Number of movies: 5\n",
      "Good Will Hunting, The Martian, The Bourne Ultimatum, Saving Private Ryan, The Departed\n",
      "\n",
      "\n",
      "Actor: Charles Chaplin\n",
      "Number of movies: 5\n",
      "The Great Dictator, The Gold Rush, City Lights, Modern Times, The Kid\n",
      "\n",
      "\n",
      "Actor: Mark Hamill\n",
      "Number of movies: 5\n",
      "Star Wars: Episode V - The Empire Strikes Back, Star Wars: Episode IV - A New Hope, Castle in the Sky, Star Wars: The Force Awakens, Star Wars: Episode VI - Return of the Jedi\n",
      "\n",
      "\n",
      "Actor: Al Pacino\n",
      "Number of movies: 5\n",
      "Dog Day Afternoon, Scarface, The Godfather, Heat, The Godfather: Part II\n",
      "\n",
      "\n",
      "Actor: Tom Hardy\n",
      "Number of movies: 5\n",
      "Warrior, Mad Max: Fury Road, Inception, The Revenant, The Dark Knight Rises\n",
      "\n",
      "\n",
      "Actor: Anthony Daniels\n",
      "Number of movies: 4\n",
      "Star Wars: Episode V - The Empire Strikes Back, Star Wars: Episode IV - A New Hope, Star Wars: The Force Awakens, Star Wars: Episode VI - Return of the Jedi\n",
      "\n",
      "\n",
      "Actor: Kenny Baker\n",
      "Number of movies: 4\n",
      "Star Wars: Episode V - The Empire Strikes Back, Star Wars: Episode IV - A New Hope, Amadeus, Star Wars: Episode VI - Return of the Jedi\n",
      "\n",
      "\n",
      "Actor: Carrie Fisher\n",
      "Number of movies: 4\n",
      "Star Wars: Episode V - The Empire Strikes Back, Star Wars: Episode IV - A New Hope, Star Wars: The Force Awakens, Star Wars: Episode VI - Return of the Jedi\n",
      "\n",
      "\n"
     ]
    }
   ],
   "source": [
    "unwind = {'$unwind': '$cast'}\n",
    "group = {'$group': {'_id': '$cast.actor', 'count': {'$sum': 1}, 'titles': {'$push': '$title'}}}\n",
    "sort = {'$sort': {'count': -1}}\n",
    "limit = {'$limit': 20}\n",
    "\n",
    "movie_actors = collection.aggregate([unwind, group, sort, limit])\n",
    "for a in movie_actors:\n",
    "    print \"Actor: {}\".format(a['_id'].encode('utf-8'))\n",
    "    print \"Number of movies: {}\".format(a['count'])\n",
    "    print ', '.join(a['titles'])\n",
    "    print '\\n'"
   ]
  },
  {
   "cell_type": "markdown",
   "metadata": {
    "collapsed": true
   },
   "source": [
    "_In which countries were each of the Top 250 movies originally released?_"
   ]
  },
  {
   "cell_type": "code",
   "execution_count": 5,
   "metadata": {
    "collapsed": false
   },
   "outputs": [
    {
     "name": "stdout",
     "output_type": "stream",
     "text": [
      "USA: 182\n",
      "UK: 46\n",
      "France: 18\n",
      "Germany: 15\n",
      "Italy: 14\n",
      "Japan: 14\n",
      "Spain: 7\n",
      "Hong Kong: 6\n",
      "India: 5\n",
      "Sweden: 5\n",
      "West Germany: 5\n",
      "Canada: 5\n",
      "New Zealand: 3\n",
      "Australia: 3\n",
      "Mexico: 3\n",
      "Ireland: 3\n",
      "South Korea: 2\n",
      "China: 2\n",
      "Iran: 2\n",
      "Argentina: 2\n",
      "Austria: 2\n",
      "Soviet Union: 1\n",
      "Taiwan: 1\n",
      "Morocco: 1\n",
      "South Africa: 1\n",
      "Libya: 1\n",
      "Lebanon: 1\n",
      "Denmark: 1\n",
      "Switzerland: 1\n",
      "Brazil: 1\n",
      "Algeria: 1\n",
      "Kuwait: 1\n",
      "United Arab Emirates: 1\n",
      "Poland: 1\n"
     ]
    }
   ],
   "source": [
    "unwind = {'$unwind': '$country'}\n",
    "group = {'$group': {'_id': '$country', 'count': {'$sum': 1}}}\n",
    "sort = {'$sort': {'count': -1}}\n",
    "movie_countries = collection.aggregate([unwind, group, sort])\n",
    "for c in movie_countries:\n",
    "    print \"{}: {}\".format(c['_id'], c['count'])"
   ]
  },
  {
   "cell_type": "markdown",
   "metadata": {},
   "source": [
    "_Of the countries with more than 10 movies, what is the average rating?_"
   ]
  },
  {
   "cell_type": "code",
   "execution_count": 13,
   "metadata": {
    "collapsed": false
   },
   "outputs": [
    {
     "name": "stdout",
     "output_type": "stream",
     "text": [
      "USA: 8.32967032967\n",
      "UK: 8.27826086957\n",
      "France: 8.32222222222\n",
      "Germany: 8.34666666667\n",
      "Italy: 8.33571428571\n",
      "Japan: 8.32142857143\n"
     ]
    }
   ],
   "source": [
    "unwind = {'$unwind': '$country'}\n",
    "group = {'$group': {'_id': '$country', 'count': {'$sum': 1}, 'avg_rating': {'$avg': '$rating'}}}\n",
    "match = {'$match': {'count': {'$gt': 10}}}\n",
    "sort = {'$sort': {'count': -1}}\n",
    "movie_countries = collection.aggregate([unwind, group, match, sort])\n",
    "for c in movie_countries:\n",
    "    print \"{}: {}\".format(c['_id'], c['avg_rating'])"
   ]
  },
  {
   "cell_type": "markdown",
   "metadata": {
    "collapsed": true
   },
   "source": [
    "_What are the most popular character first names in the Top 250 movies?_"
   ]
  },
  {
   "cell_type": "code",
   "execution_count": 109,
   "metadata": {
    "collapsed": false
   },
   "outputs": [
    {
     "name": "stdout",
     "output_type": "stream",
     "text": [
      "[(u'harry', 7), (u'bill', 7), (u'michael', 7), (u'billy', 7), (u'ben', 7), (u'carl', 8), (u'robert', 8), (u'luke', 8), (u'walter', 8), (u'paul', 8), (u'joe', 9), (u'james', 10), (u'george', 10), (u'mary', 10), (u'jim', 11), (u'jack', 12), (u'tom', 12), (u'sam', 14), (u'frank', 15), (u'john', 16)]\n"
     ]
    }
   ],
   "source": [
    "unwind = {'$unwind': '$cast'}\n",
    "group = {'$group': {'_id': '$cast.character'.split(\" \")[0], 'count': {'$sum': 1}}}\n",
    "sort = {'$sort': {'count': -1}}\n",
    "limit = {'$limit': 50}\n",
    "\n",
    "movie_characters = collection.aggregate([unwind])\n",
    "d = {}\n",
    "bad = ['the', 'additional', '', 'man', 'police', 'a', 'un', '(voice)']\n",
    "title = ['captain', 'young', 'general', 'detective', 'private', \n",
    "        'juror', 'sheriff', 'miss', 'old', 'uncle', 'judge', 'officer',\n",
    "        'colonel', 'big', 'chief', 'sergeant', 'professor', 'inspector', 'lieutenant',\n",
    "        'agent', 'princess', 'aunt', 'father', 'major', 'nurse', 'lord']\n",
    "#common_names = {'mike': 'michael', 'tom': 'thomas', 'joe': 'joseph', 'bob': 'robert'}\n",
    "for r in movie_characters:\n",
    "    name_split = r['cast']['character'].split(' ')\n",
    "    name = name_split[0].lower()\n",
    "    if name in title and len(name_split) != 1:\n",
    "        name = name_split[1].lower()\n",
    "    if (name in bad) or name.endswith('.'):\n",
    "        continue\n",
    "    #if name in common_names.keys():\n",
    "        #name = common_names[name]\n",
    "    if name in d:\n",
    "        d[name] += 1\n",
    "    else:\n",
    "        d[name] = 1\n",
    "print sorted(d.items(), key=lambda x:x[1])[-20:]"
   ]
  },
  {
   "cell_type": "markdown",
   "metadata": {},
   "source": [
    "_What are the shortest and longest movies? What is the average run time of all the movies??_"
   ]
  },
  {
   "cell_type": "code",
   "execution_count": 5,
   "metadata": {
    "collapsed": false
   },
   "outputs": [
    {
     "name": "stdout",
     "output_type": "stream",
     "text": [
      "Gangs of Wasseypur: 320\n",
      "The General: 67\n",
      "Average Movie Duration: 128.964 minutes\n"
     ]
    }
   ],
   "source": [
    "proj = { '$project': {'_id': 0, 'title': 1, 'duration': 1}}\n",
    "for s in [-1, 1]:\n",
    "    d = collection.aggregate([{'$sort': {'duration': s}}, proj, {'$limit': 1}])\n",
    "    for r in d:\n",
    "        print '{}: {}'.format(r['title'], r['duration'])\n",
    "group = {'$group': { '_id': 'Average Movie Duration', 'dur': {'$avg': '$duration'}}}\n",
    "avg_movie_duration = collection.aggregate([group])\n",
    "for r in avg_movie_duration:\n",
    "    print '{}: {} minutes'.format(r['_id'], r['dur'])"
   ]
  },
  {
   "cell_type": "markdown",
   "metadata": {
    "collapsed": true
   },
   "source": [
    "_What were the least and most expensive movies to produce?_"
   ]
  },
  {
   "cell_type": "code",
   "execution_count": 3,
   "metadata": {
    "collapsed": false
   },
   "outputs": [
    {
     "name": "stdout",
     "output_type": "stream",
     "text": [
      "Bicycle Thieves: 133000\n",
      "Captain America: Civil War: 250000000\n"
     ]
    }
   ],
   "source": [
    "movie_titles = collection.find({}, {'_id': 0, 'title': 1, 'box_office.budget': 1})\n",
    "cheapest = [movie_titles[0]['title'], movie_titles[0]['box_office']['budget']]\n",
    "most_expensive = [movie_titles[0]['title'], movie_titles[0]['box_office']['budget']]\n",
    "for r in movie_titles:\n",
    "    b = (r['box_office']['budget'])\n",
    "    t = r['title']\n",
    "    if b == None:\n",
    "        continue\n",
    "    if b < cheapest[1]:\n",
    "        cheapest = [t,b]\n",
    "    if b > most_expensive[1]:\n",
    "        most_expensive = [t,b]\n",
    "print '{}: {}'.format(*cheapest)\n",
    "print '{}: {}'.format(*most_expensive)"
   ]
  },
  {
   "cell_type": "markdown",
   "metadata": {
    "collapsed": true
   },
   "source": [
    "_What were the highest and lowest grossing films??_"
   ]
  },
  {
   "cell_type": "code",
   "execution_count": 4,
   "metadata": {
    "collapsed": false
   },
   "outputs": [
    {
     "name": "stdout",
     "output_type": "stream",
     "text": [
      "All About Eve: 10177\n",
      "Star Wars: The Force Awakens: 936627416\n"
     ]
    }
   ],
   "source": [
    "movie_titles = collection.find({}, {'_id': 0, 'title': 1, 'box_office.gross': 1})\n",
    "lowest = [movie_titles[0]['title'], movie_titles[0]['box_office']['gross']]\n",
    "highest = [movie_titles[0]['title'], movie_titles[0]['box_office']['gross']]\n",
    "for r in movie_titles:\n",
    "    b = (r['box_office']['gross'])\n",
    "    t = r['title']\n",
    "    if b == None:\n",
    "        continue\n",
    "    if b < lowest[1]:\n",
    "        lowest = [t,b]\n",
    "    if b > highest[1]:\n",
    "        highest = [t,b]\n",
    "print '{}: {}'.format(*lowest)\n",
    "print '{}: {}'.format(*highest)"
   ]
  },
  {
   "cell_type": "markdown",
   "metadata": {},
   "source": [
    "Unfortunately these numbers don't really tell us much. Some of the values haven't been updated in a long time. Plus, the numbers aren't adjusted for inflation."
   ]
  },
  {
   "cell_type": "markdown",
   "metadata": {},
   "source": [
    "_How many movies were produced in each decade??_ Decades will start on the 1 and end on a 0, so the 1950s would include movies from 1951-1960, 1960s would include 1961-1970."
   ]
  },
  {
   "cell_type": "code",
   "execution_count": 36,
   "metadata": {
    "collapsed": false
   },
   "outputs": [
    {
     "name": "stdout",
     "output_type": "stream",
     "text": [
      "1920: 5\n",
      "1930: 9\n",
      "1940: 12\n",
      "1950: 28\n",
      "1960: 17\n",
      "1970: 26\n",
      "1980: 26\n",
      "1990: 42\n",
      "2000: 53\n",
      "2010: 32\n"
     ]
    }
   ],
   "source": [
    "movie_titles = collection.find({}, {'_id': 0, 'title': 1, 'date_published': 1})\n",
    "d = {}\n",
    "for r in movie_titles:\n",
    "    v = r['date_published'][:4]\n",
    "    if v[3] == '0':\n",
    "        v = str(int(v) - 1)[:3] + '0'\n",
    "    else:\n",
    "        v = v[:3] + '0'\n",
    "    if v in d:\n",
    "        d[v] += 1\n",
    "    else:\n",
    "        d[v] = 1\n",
    "for (y, c) in sorted(d.items(), key=lambda x:x[0]):\n",
    "    print '{}: {}'.format(y, c)"
   ]
  },
  {
   "cell_type": "markdown",
   "metadata": {},
   "source": [
    "The increase in top rated movies throughout the decades (Come on 1960s, you ruined my chart!) makes sense for many reasons.\n",
    "* The number of movies being released each decade has increased steadily throughout the years.\n",
    "* The younger generation is much more prone to watching newer films over older films.\n",
    "* The younger generation is also much more likely to vote on a website because they are more technologically savvy\n",
    "\n",
    "So that brings me to another question, what happened in the 1960s??\n",
    "\n",
    "A rough search on the IMDB gives us 20,000 titles in the 1950s. The 1960s has almost 28,000. So the decline can't be attributed to less films being produced.\n",
    "\n",
    "* While televisions had been broadcasting since the 1920s, their popularity started to increase in the late 1940s. By 1950, there were 6 million televisions in the United States. By 1960, over 50 million! With the increase in the popularity of the television, movie attendance decreased drastically. Film companies began producing more content for television. The decrease in movie attendance coincided with the financial difficulties of the movie industry as a whole.\n",
    "\n",
    "* With the movie industry on the decline, many companies, including Warner Bros, United Artists, and Paramount, were bought out by business conglomerates who were more interested in making money quickly rather than producing quality.\n",
    "\n",
    "* Many of the famous directors from the 1950s and earlier were on the decline as well. John Ford, Howard Hawks, George Stevens, Alfred Hitchcock (although we did get The Birds and Topaz and the 1960s), William Wyler, and others. This would bring on a new breed of directors, who moviegoers weren't familiar with and perhaps affected the overall theater attendance."
   ]
  },
  {
   "cell_type": "markdown",
   "metadata": {},
   "source": [
    "## Resources\n",
    "\n",
    "* [Film History of the 1960s](http://www.filmsite.org/60sintro.html)\n",
    "\n",
    "* [Number of Televisions in the US](http://hypertextbook.com/facts/2007/TamaraTamazashvili.shtml)"
   ]
  },
  {
   "cell_type": "code",
   "execution_count": null,
   "metadata": {
    "collapsed": true
   },
   "outputs": [],
   "source": []
  }
 ],
 "metadata": {
  "kernelspec": {
   "display_name": "Python 2",
   "language": "python",
   "name": "python2"
  },
  "language_info": {
   "codemirror_mode": {
    "name": "ipython",
    "version": 2
   },
   "file_extension": ".py",
   "mimetype": "text/x-python",
   "name": "python",
   "nbconvert_exporter": "python",
   "pygments_lexer": "ipython2",
   "version": "2.7.10"
  }
 },
 "nbformat": 4,
 "nbformat_minor": 0
}
