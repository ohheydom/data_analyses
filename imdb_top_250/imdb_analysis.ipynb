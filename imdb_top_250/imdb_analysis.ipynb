{
 "cells": [
  {
   "cell_type": "markdown",
   "metadata": {},
   "source": [
    "# IMDB Top 250 Data Analysis"
   ]
  },
  {
   "cell_type": "markdown",
   "metadata": {},
   "source": [
    "This is an analysis of the Internet Movie Database's Top 250 movies scraped on June 7th, 2016. I'm using this notebook as a scratchpad where I'll find interesting trends in the data and transfer over to a webpage."
   ]
  },
  {
   "cell_type": "code",
   "execution_count": 1,
   "metadata": {
    "collapsed": false
   },
   "outputs": [],
   "source": [
    "import numpy as np\n",
    "\n",
    "from pymongo import MongoClient\n",
    "from imdb_data_parser import IMDBDataParser\n",
    "from imdb_scraper import IMDBScraper"
   ]
  },
  {
   "cell_type": "markdown",
   "metadata": {},
   "source": [
    "### Download IMDB Movie Data\n",
    "\n",
    "Download the movie data from IMDB."
   ]
  },
  {
   "cell_type": "code",
   "execution_count": 44,
   "metadata": {
    "collapsed": false
   },
   "outputs": [],
   "source": [
    "#imdb_scraper = IMDBScraper()\n",
    "#imdb_scraper.download_data()"
   ]
  },
  {
   "cell_type": "markdown",
   "metadata": {},
   "source": [
    "### MongoDB\n",
    "\n",
    "Load the MongoDB client and collection. Create the database, parse the movie data and insert it into the collection if the data doesn't already exist. Otherwise, ignore."
   ]
  },
  {
   "cell_type": "code",
   "execution_count": 45,
   "metadata": {
    "collapsed": false
   },
   "outputs": [],
   "source": [
    "client = MongoClient()\n",
    "db = client.imdb\n",
    "collection = db.movies\n",
    "\n",
    "if 'movies' not in db.collection_names():\n",
    "    imdb_parser = IMDBDataParser()\n",
    "    movie_data = imdb_parser.parse_files('pages')\n",
    "    collection.insert_many(movie_data)"
   ]
  },
  {
   "cell_type": "markdown",
   "metadata": {},
   "source": [
    "### Analysis\n",
    "\n",
    "Analyze the data using MongoDB's Aggregation Pipeline"
   ]
  },
  {
   "cell_type": "markdown",
   "metadata": {},
   "source": [
    "_What movie title has the fewest number of letters? What movie title has the highest number of letters?_"
   ]
  },
  {
   "cell_type": "code",
   "execution_count": 4,
   "metadata": {
    "collapsed": false
   },
   "outputs": [
    {
     "name": "stdout",
     "output_type": "stream",
     "text": [
      "Fewest: M\n",
      "Most: Dr. Strangelove or: How I Learned to Stop Worrying and Love the Bomb\n"
     ]
    }
   ],
   "source": [
    "movie_titles = collection.find({}, {'_id': 0, 'title': 1})\n",
    "fewest = movie_titles[0]['title']\n",
    "most = movie_titles[0]['title']\n",
    "for r in movie_titles:\n",
    "    t = r['title']\n",
    "    if len(t) < len(fewest):\n",
    "        fewest = t\n",
    "    if len(t) > len(most):\n",
    "        most = t\n",
    "print \"Fewest: {}\".format(fewest)\n",
    "print \"Most: {}\".format(most)"
   ]
  },
  {
   "cell_type": "markdown",
   "metadata": {
    "collapsed": true
   },
   "source": [
    "_What are the most and least popular genres?_"
   ]
  },
  {
   "cell_type": "code",
   "execution_count": 5,
   "metadata": {
    "collapsed": false
   },
   "outputs": [
    {
     "name": "stdout",
     "output_type": "stream",
     "text": [
      "Drama: 171\n",
      "Adventure: 64\n",
      "Crime: 55\n",
      "Comedy: 39\n",
      "Action: 37\n",
      "Thriller: 34\n",
      "Mystery: 28\n",
      "Biography: 25\n",
      "Sci-Fi: 24\n",
      "Romance: 21\n",
      "Fantasy: 21\n",
      "Animation: 19\n",
      "War: 18\n",
      "History: 14\n",
      "Family: 13\n",
      "Horror: 9\n",
      "Film-Noir: 8\n",
      "Western: 7\n",
      "Sport: 4\n",
      "Musical: 2\n",
      "Music: 1\n"
     ]
    }
   ],
   "source": [
    "unwind = {'$unwind': '$genres'}\n",
    "group = {'$group' : {'_id': '$genres', 'count': {'$sum': 1}}}\n",
    "sort = {'$sort': {'count': -1}}\n",
    "movie_genres = collection.aggregate([unwind, group, sort])\n",
    "for a in movie_genres:\n",
    "    print \"{}: {}\".format(a['_id'], a['count'])"
   ]
  },
  {
   "cell_type": "markdown",
   "metadata": {},
   "source": [
    "_Which directors have the most films in the Top 250 and what are they?_"
   ]
  },
  {
   "cell_type": "code",
   "execution_count": 6,
   "metadata": {
    "collapsed": false
   },
   "outputs": [
    {
     "name": "stdout",
     "output_type": "stream",
     "text": [
      "Director: Alfred Hitchcock\n",
      "Number of movies: 7\n",
      "Rear Window, Rebecca, Dial M for Murder, Psycho, North by Northwest, Strangers on a Train, Vertigo\n",
      "\n",
      "\n",
      "Director: Steven Spielberg\n",
      "Number of movies: 7\n",
      "Catch Me If You Can, Jurassic Park, Schindler's List, Indiana Jones and the Last Crusade, Raiders of the Lost Ark, Jaws, Saving Private Ryan\n",
      "\n",
      "\n",
      "Director: Christopher Nolan\n",
      "Number of movies: 7\n",
      "The Prestige, Memento, Batman Begins, The Dark Knight, Interstellar, Inception, The Dark Knight Rises\n",
      "\n",
      "\n",
      "Director: Stanley Kubrick\n",
      "Number of movies: 7\n",
      "2001: A Space Odyssey, A Clockwork Orange, Dr. Strangelove or: How I Learned to Stop Worrying and Love the Bomb, Barry Lyndon, The Shining, Full Metal Jacket, Paths of Glory\n",
      "\n",
      "\n",
      "Director: Martin Scorsese\n",
      "Number of movies: 7\n",
      "Shutter Island, Raging Bull, The Wolf of Wall Street, Goodfellas, Taxi Driver, The Departed, Casino\n",
      "\n",
      "\n",
      "Director: Hayao Miyazaki\n",
      "Number of movies: 6\n",
      "Howl's Moving Castle, Castle in the Sky, Spirited Away, My Neighbor Totoro, Princess Mononoke, Nausicaä of the Valley of the Wind\n",
      "\n",
      "\n",
      "Director: Akira Kurosawa\n",
      "Number of movies: 6\n",
      "Throne of Blood, Yojimbo, Seven Samurai, Ran, Rashômon, Ikiru\n",
      "\n",
      "\n",
      "Director: Charles Chaplin\n",
      "Number of movies: 5\n",
      "The Great Dictator, The Gold Rush, City Lights, Modern Times, The Kid\n",
      "\n",
      "\n",
      "Director: Billy Wilder\n",
      "Number of movies: 5\n",
      "The Apartment, Some Like It Hot, Witness for the Prosecution, Sunset Blvd., Double Indemnity\n",
      "\n",
      "\n",
      "Director: Sergio Leone\n",
      "Number of movies: 5\n",
      "The Good, the Bad and the Ugly, Once Upon a Time in the West, Once Upon a Time in America, A Fistful of Dollars, For a Few Dollars More\n",
      "\n",
      "\n"
     ]
    }
   ],
   "source": [
    "group = {'$group': {'_id': '$director', 'count': {'$sum': 1}, 'titles': {'$push': '$title'}}}\n",
    "sort = {'$sort': {'count': -1}}\n",
    "limit = {'$limit': 10}\n",
    "movie_directors = collection.aggregate([group, sort, limit])\n",
    "for d in movie_directors:\n",
    "    print \"Director: {}\".format(d['_id'])\n",
    "    print \"Number of movies: {}\".format(d['count'])\n",
    "    print ', '.join(d['titles'])\n",
    "    print '\\n'"
   ]
  },
  {
   "cell_type": "markdown",
   "metadata": {},
   "source": [
    "_Which actors/actresses have appeared in the most films in the Top 250? What movies have they appeared in?_"
   ]
  },
  {
   "cell_type": "code",
   "execution_count": 7,
   "metadata": {
    "collapsed": false
   },
   "outputs": [
    {
     "name": "stdout",
     "output_type": "stream",
     "text": [
      "Actor: Harrison Ford\n",
      "Number of movies: 8\n",
      "Star Wars: Episode V - The Empire Strikes Back, Star Wars: Episode IV - A New Hope, Apocalypse Now, Indiana Jones and the Last Crusade, Star Wars: The Force Awakens, Star Wars: Episode VI - Return of the Jedi, Raiders of the Lost Ark, Blade Runner\n",
      "\n",
      "\n",
      "Actor: Robert De Niro\n",
      "Number of movies: 8\n",
      "Once Upon a Time in America, Raging Bull, Goodfellas, The Deer Hunter, Heat, The Godfather: Part II, Taxi Driver, Casino\n",
      "\n",
      "\n",
      "Actor: Leonardo DiCaprio\n",
      "Number of movies: 7\n",
      "Catch Me If You Can, Shutter Island, Django Unchained, The Wolf of Wall Street, Inception, The Revenant, The Departed\n",
      "\n",
      "\n",
      "Actor: Morgan Freeman\n",
      "Number of movies: 7\n",
      "Million Dollar Baby, Batman Begins, The Shawshank Redemption, Se7en, The Dark Knight, Unforgiven, The Dark Knight Rises\n",
      "\n",
      "\n",
      "Actor: Michael Caine\n",
      "Number of movies: 6\n",
      "The Prestige, Batman Begins, The Dark Knight, Interstellar, Inception, The Dark Knight Rises\n",
      "\n",
      "\n",
      "Actor: Alec Guinness\n",
      "Number of movies: 6\n",
      "Star Wars: Episode V - The Empire Strikes Back, Star Wars: Episode IV - A New Hope, Kind Hearts and Coronets, Star Wars: Episode VI - Return of the Jedi, Lawrence of Arabia, The Bridge on the River Kwai\n",
      "\n",
      "\n",
      "Actor: Tom Hanks\n",
      "Number of movies: 6\n",
      "Catch Me If You Can, Forrest Gump, Toy Story, The Green Mile, Toy Story 3, Saving Private Ryan\n",
      "\n",
      "\n",
      "Actor: Clint Eastwood\n",
      "Number of movies: 6\n",
      "The Good, the Bad and the Ugly, Million Dollar Baby, Gran Torino, A Fistful of Dollars, Unforgiven, For a Few Dollars More\n",
      "\n",
      "\n",
      "Actor: Mark Hamill\n",
      "Number of movies: 5\n",
      "Star Wars: Episode V - The Empire Strikes Back, Star Wars: Episode IV - A New Hope, Castle in the Sky, Star Wars: The Force Awakens, Star Wars: Episode VI - Return of the Jedi\n",
      "\n",
      "\n",
      "Actor: Christian Bale\n",
      "Number of movies: 5\n",
      "The Prestige, Howl's Moving Castle, Batman Begins, The Dark Knight, The Dark Knight Rises\n",
      "\n",
      "\n",
      "Actor: Al Pacino\n",
      "Number of movies: 5\n",
      "Dog Day Afternoon, Scarface, The Godfather, Heat, The Godfather: Part II\n",
      "\n",
      "\n",
      "Actor: Tom Hardy\n",
      "Number of movies: 5\n",
      "Warrior, Mad Max: Fury Road, Inception, The Revenant, The Dark Knight Rises\n",
      "\n",
      "\n",
      "Actor: Charles Chaplin\n",
      "Number of movies: 5\n",
      "The Great Dictator, The Gold Rush, City Lights, Modern Times, The Kid\n",
      "\n",
      "\n",
      "Actor: Matt Damon\n",
      "Number of movies: 5\n",
      "Good Will Hunting, The Martian, The Bourne Ultimatum, Saving Private Ryan, The Departed\n",
      "\n",
      "\n",
      "Actor: John Ratzenberger\n",
      "Number of movies: 5\n",
      "Monsters, Inc., Toy Story, Toy Story 3, Up, WALL·E\n",
      "\n",
      "\n",
      "Actor: Takashi Shimura\n",
      "Number of movies: 5\n",
      "Throne of Blood, Yojimbo, Seven Samurai, Rashômon, Ikiru\n",
      "\n",
      "\n",
      "Actor: Robert Duvall\n",
      "Number of movies: 5\n",
      "To Kill a Mockingbird, Apocalypse Now, The Godfather, Network, The Godfather: Part II\n",
      "\n",
      "\n",
      "Actor: Daniel Brühl\n",
      "Number of movies: 4\n",
      "Inglourious Basterds, Captain America: Civil War, Rush, The Bourne Ultimatum\n",
      "\n",
      "\n",
      "Actor: Samuel L. Jackson\n",
      "Number of movies: 4\n",
      "Jurassic Park, Pulp Fiction, Django Unchained, The Avengers\n",
      "\n",
      "\n",
      "Actor: Martin Sheen\n",
      "Number of movies: 4\n",
      "Catch Me If You Can, Apocalypse Now, Gandhi, The Departed\n",
      "\n",
      "\n",
      "Actor: John Hurt\n",
      "Number of movies: 4\n",
      "Alien, V for Vendetta, Harry Potter and the Deathly Hallows: Part 2, The Elephant Man\n",
      "\n",
      "\n",
      "Actor: Peter Mayhew\n",
      "Number of movies: 4\n",
      "Star Wars: Episode V - The Empire Strikes Back, Star Wars: Episode IV - A New Hope, Star Wars: The Force Awakens, Star Wars: Episode VI - Return of the Jedi\n",
      "\n",
      "\n",
      "Actor: Benicio Del Toro\n",
      "Number of movies: 4\n",
      "Sin City, Snatch., Guardians of the Galaxy, The Usual Suspects\n",
      "\n",
      "\n",
      "Actor: Max von Sydow\n",
      "Number of movies: 4\n",
      "Wild Strawberries, Shutter Island, Star Wars: The Force Awakens, The Seventh Seal\n",
      "\n",
      "\n",
      "Actor: Gary Oldman\n",
      "Number of movies: 4\n",
      "Batman Begins, Léon: The Professional, The Dark Knight, The Dark Knight Rises\n",
      "\n",
      "\n",
      "Actor: Steve Buscemi\n",
      "Number of movies: 4\n",
      "Monsters, Inc., Fargo, The Big Lebowski, Reservoir Dogs\n",
      "\n",
      "\n",
      "Actor: Toshirô Mifune\n",
      "Number of movies: 4\n",
      "Throne of Blood, Yojimbo, Seven Samurai, Rashômon\n",
      "\n",
      "\n",
      "Actor: James Stewart\n",
      "Number of movies: 4\n",
      "Rear Window, Mr. Smith Goes to Washington, It's a Wonderful Life, Vertigo\n",
      "\n",
      "\n",
      "Actor: Thomas Mitchell\n",
      "Number of movies: 4\n",
      "Gone with the Wind, Mr. Smith Goes to Washington, It's a Wonderful Life, High Noon\n",
      "\n",
      "\n",
      "Actor: Orlando Bloom\n",
      "Number of movies: 4\n",
      "Pirates of the Caribbean: The Curse of the Black Pearl, The Lord of the Rings: The Fellowship of the Ring, The Lord of the Rings: The Two Towers, The Lord of the Rings: The Return of the King\n",
      "\n",
      "\n",
      "Actor: Joe Pesci\n",
      "Number of movies: 4\n",
      "Once Upon a Time in America, Raging Bull, Goodfellas, Casino\n",
      "\n",
      "\n",
      "Actor: Minoru Chiaki\n",
      "Number of movies: 4\n",
      "Throne of Blood, Seven Samurai, Rashômon, Ikiru\n",
      "\n",
      "\n",
      "Actor: John Cazale\n",
      "Number of movies: 4\n",
      "Dog Day Afternoon, The Godfather, The Deer Hunter, The Godfather: Part II\n",
      "\n",
      "\n",
      "Actor: Brad Pitt\n",
      "Number of movies: 4\n",
      "Inglourious Basterds, Se7en, Snatch., Fight Club\n",
      "\n",
      "\n",
      "Actor: Frank Oz\n",
      "Number of movies: 4\n",
      "Monsters, Inc., Star Wars: Episode V - The Empire Strikes Back, Star Wars: Episode VI - Return of the Jedi, Inside Out\n",
      "\n",
      "\n",
      "Actor: Anthony Daniels\n",
      "Number of movies: 4\n",
      "Star Wars: Episode V - The Empire Strikes Back, Star Wars: Episode IV - A New Hope, Star Wars: The Force Awakens, Star Wars: Episode VI - Return of the Jedi\n",
      "\n",
      "\n",
      "Actor: Kenny Baker\n",
      "Number of movies: 4\n",
      "Star Wars: Episode V - The Empire Strikes Back, Star Wars: Episode IV - A New Hope, Amadeus, Star Wars: Episode VI - Return of the Jedi\n",
      "\n",
      "\n",
      "Actor: Bruce Willis\n",
      "Number of movies: 4\n",
      "Die Hard, Pulp Fiction, The Sixth Sense, Twelve Monkeys\n",
      "\n",
      "\n",
      "Actor: Carrie Fisher\n",
      "Number of movies: 4\n",
      "Star Wars: Episode V - The Empire Strikes Back, Star Wars: Episode IV - A New Hope, Star Wars: The Force Awakens, Star Wars: Episode VI - Return of the Jedi\n",
      "\n",
      "\n",
      "Actor: Mark Ruffalo\n",
      "Number of movies: 4\n",
      "Eternal Sunshine of the Spotless Mind, Spotlight, Shutter Island, The Avengers\n",
      "\n",
      "\n",
      "Actor: André Morell\n",
      "Number of movies: 4\n",
      "Barry Lyndon, The Message, The Bridge on the River Kwai, Ben-Hur\n",
      "\n",
      "\n",
      "Actor: Helena Bonham Carter\n",
      "Number of movies: 3\n",
      "The King's Speech, Harry Potter and the Deathly Hallows: Part 2, Fight Club\n",
      "\n",
      "\n",
      "Actor: Scarlett Johansson\n",
      "Number of movies: 3\n",
      "The Prestige, Captain America: Civil War, The Avengers\n",
      "\n",
      "\n",
      "Actor: Talia Shire\n",
      "Number of movies: 3\n",
      "Rocky, The Godfather, The Godfather: Part II\n",
      "\n",
      "\n",
      "Actor: Edward Binns\n",
      "Number of movies: 3\n",
      "North by Northwest, Judgment at Nuremberg, 12 Angry Men\n",
      "\n",
      "\n",
      "Actor: Mark Rolston\n",
      "Number of movies: 3\n",
      "Aliens, The Shawshank Redemption, The Departed\n",
      "\n",
      "\n",
      "Actor: Humphrey Bogart\n",
      "Number of movies: 3\n",
      "Casablanca, The Treasure of the Sierra Madre, The Maltese Falcon\n",
      "\n",
      "\n",
      "Actor: Domhnall Gleeson\n",
      "Number of movies: 3\n",
      "Star Wars: The Force Awakens, The Revenant, Harry Potter and the Deathly Hallows: Part 2\n",
      "\n",
      "\n",
      "Actor: Hank Mann\n",
      "Number of movies: 3\n",
      "The Great Dictator, City Lights, Modern Times\n",
      "\n",
      "\n",
      "Actor: Wallace Shawn\n",
      "Number of movies: 3\n",
      "Toy Story, The Princess Bride, Toy Story 3\n",
      "\n",
      "\n"
     ]
    }
   ],
   "source": [
    "unwind = {'$unwind': '$cast'}\n",
    "group = {'$group': {'_id': '$cast.actor', 'count': {'$sum': 1}, 'titles': {'$push': '$title'}}}\n",
    "sort = {'$sort': {'count': -1}}\n",
    "limit = {'$limit': 50}\n",
    "\n",
    "movie_actors = collection.aggregate([unwind, group, sort, limit])\n",
    "for a in movie_actors:\n",
    "    print \"Actor: {}\".format(a['_id'].encode('utf-8'))\n",
    "    print \"Number of movies: {}\".format(a['count'])\n",
    "    print ', '.join(a['titles'])\n",
    "    print '\\n'"
   ]
  },
  {
   "cell_type": "markdown",
   "metadata": {
    "collapsed": true
   },
   "source": [
    "_In which countries were each of the Top 250 movies originally released?_"
   ]
  },
  {
   "cell_type": "code",
   "execution_count": 8,
   "metadata": {
    "collapsed": false
   },
   "outputs": [
    {
     "name": "stdout",
     "output_type": "stream",
     "text": [
      "USA: 182\n",
      "UK: 46\n",
      "France: 18\n",
      "Germany: 15\n",
      "Italy: 14\n",
      "Japan: 14\n",
      "Spain: 7\n",
      "Hong Kong: 6\n",
      "India: 5\n",
      "Sweden: 5\n",
      "West Germany: 5\n",
      "Canada: 5\n",
      "New Zealand: 3\n",
      "Australia: 3\n",
      "Mexico: 3\n",
      "Ireland: 3\n",
      "South Korea: 2\n",
      "China: 2\n",
      "Iran: 2\n",
      "Argentina: 2\n",
      "Austria: 2\n",
      "Soviet Union: 1\n",
      "Taiwan: 1\n",
      "Morocco: 1\n",
      "South Africa: 1\n",
      "Libya: 1\n",
      "Lebanon: 1\n",
      "Denmark: 1\n",
      "Switzerland: 1\n",
      "Brazil: 1\n",
      "Algeria: 1\n",
      "Kuwait: 1\n",
      "United Arab Emirates: 1\n",
      "Poland: 1\n"
     ]
    }
   ],
   "source": [
    "unwind = {'$unwind': '$country'}\n",
    "group = {'$group': {'_id': '$country', 'count': {'$sum': 1}}}\n",
    "sort = {'$sort': {'count': -1}}\n",
    "movie_countries = collection.aggregate([unwind, group, sort])\n",
    "for c in movie_countries:\n",
    "    print \"{}: {}\".format(c['_id'], c['count'])"
   ]
  },
  {
   "cell_type": "markdown",
   "metadata": {
    "collapsed": true
   },
   "source": [
    "_What are the most popular character first names in the Top 250 movies?_"
   ]
  },
  {
   "cell_type": "code",
   "execution_count": 9,
   "metadata": {
    "collapsed": false
   },
   "outputs": [
    {
     "name": "stdout",
     "output_type": "stream",
     "text": [
      ": 15\n",
      "Additional Voices (voice): 14\n",
      "Un enfant /  Child: 7\n",
      "Sam: 5\n",
      "Silver Assay Worker: 4\n",
      "Han Solo: 4\n",
      "C-3PO: 4\n",
      "Captain: 4\n",
      "Chewbacca: 4\n",
      "Luke Skywalker: 4\n",
      "Frank: 4\n",
      "Judge: 4\n",
      "Joe: 3\n",
      "Legolas: 3\n",
      "Galadriel: 3\n",
      "Pippin: 3\n",
      "Ernie: 3\n",
      "(voice): 3\n",
      "Cafe Patron: 3\n",
      "Nancy: 3\n",
      "Darth Vader: 3\n",
      "Princess Leia: 3\n",
      "Luke: 3\n",
      "Union General: 3\n",
      "Doctor: 3\n",
      "Alfred: 3\n",
      "Jimmy: 3\n",
      "Mother (voice): 3\n",
      "Howard: 2\n",
      "Theoden: 2\n",
      "Everard Proudfoot: 2\n",
      "Boromir: 2\n",
      "Aunt Emma: 2\n",
      "Celeborn: 2\n",
      "Kanta (voice): 2\n",
      "Lawrence: 2\n",
      "Agnes: 2\n",
      "Connie: 2\n",
      "Bridesmaid: 2\n",
      "Bruce Wayne: 2\n",
      "A Tramp (as Charlie Chaplin): 2\n",
      "Guido: 2\n",
      "Punk: 2\n",
      "TV Commentator: 2\n",
      "Brad: 2\n",
      "Sallah: 2\n",
      "Woody (voice): 2\n",
      "Spats' Henchman: 2\n",
      "Rex (voice): 2\n",
      "Coroner: 2\n"
     ]
    }
   ],
   "source": [
    "unwind = {'$unwind': '$cast'}\n",
    "group = {'$group': {'_id': '$cast.character'.split(\" \")[0], 'count': {'$sum': 1}}}\n",
    "sort = {'$sort': {'count': -1}}\n",
    "limit = {'$limit': 50}\n",
    "\n",
    "movie_characters = collection.aggregate([unwind, group, sort, limit])\n",
    "for a in movie_characters:\n",
    "    print \"{}: {}\".format(a['_id'].encode('utf-8'), (a['count']))"
   ]
  },
  {
   "cell_type": "markdown",
   "metadata": {},
   "source": [
    "_What are the shortest and longest movies? What is the average run time of all the movies??_"
   ]
  },
  {
   "cell_type": "code",
   "execution_count": 46,
   "metadata": {
    "collapsed": false
   },
   "outputs": [
    {
     "name": "stdout",
     "output_type": "stream",
     "text": [
      "Gangs of Wasseypur: 320\n",
      "The General: 67\n",
      "Average Movie Duration: 128.964 minutes\n"
     ]
    }
   ],
   "source": [
    "proj = { '$project': {'_id': 0, 'title': 1, 'duration': 1}}\n",
    "for s in [-1, 1]:\n",
    "    d = collection.aggregate([{'$sort': {'duration': s}}, proj, {'$limit': 1}])\n",
    "    for r in d:\n",
    "        print '{}: {}'.format(r['title'], r['duration'])\n",
    "group = {'$group': { '_id': 'Average Movie Duration', 'dur': {'$avg': '$duration'}}}\n",
    "avg_movie_duration = collection.aggregate([group])\n",
    "for r in avg_movie_duration:\n",
    "    print '{}: {} minutes'.format(r['_id'], r['dur'])"
   ]
  },
  {
   "cell_type": "code",
   "execution_count": null,
   "metadata": {
    "collapsed": true
   },
   "outputs": [],
   "source": []
  }
 ],
 "metadata": {
  "kernelspec": {
   "display_name": "Python 2",
   "language": "python",
   "name": "python2"
  },
  "language_info": {
   "codemirror_mode": {
    "name": "ipython",
    "version": 2
   },
   "file_extension": ".py",
   "mimetype": "text/x-python",
   "name": "python",
   "nbconvert_exporter": "python",
   "pygments_lexer": "ipython2",
   "version": "2.7.10"
  }
 },
 "nbformat": 4,
 "nbformat_minor": 0
}
