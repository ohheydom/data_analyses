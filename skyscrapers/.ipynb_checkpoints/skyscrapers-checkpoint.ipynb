{
 "cells": [
  {
   "cell_type": "markdown",
   "metadata": {},
   "source": [
    "# Visualizing the Growth of Skyscrapers"
   ]
  },
  {
   "cell_type": "code",
   "execution_count": 1,
   "metadata": {
    "collapsed": false
   },
   "outputs": [
    {
     "name": "stdout",
     "output_type": "stream",
     "text": [
      "2427\n",
      "name                   1 Bank of America Center\n",
      "rank                                        720\n",
      "functions                                office\n",
      "structural_material                   composite\n",
      "status                                      COM\n",
      "city                                  Charlotte\n",
      "city_locode                                 CLT\n",
      "start                                      2007\n",
      "completed                                  2010\n",
      "floors_above                                 32\n",
      "height                                   147.52\n",
      "longitude                              -80.8408\n",
      "latitude                                35.2265\n",
      "dem                                         NaN\n",
      "Name: 0, dtype: object\n"
     ]
    }
   ],
   "source": [
    "import pandas as pd\n",
    "\n",
    "skyscrapers = pd.read_csv('csvs/skyscrapers.csv')\n",
    "print len(skyscrapers)\n",
    "print skyscrapers.iloc[0]"
   ]
  },
  {
   "cell_type": "markdown",
   "metadata": {},
   "source": [
    "## Clean the data\n",
    "\n",
    "According to [Wikipedia](https://en.wikipedia.org/wiki/Skyscraper), a skyscraper is a building taller than 50 meters (164 feet).\n",
    "\n",
    "I'll drop all the buildings that have yet to be completed as well as any buildings smaller than 50 meters."
   ]
  },
  {
   "cell_type": "code",
   "execution_count": 3,
   "metadata": {
    "collapsed": false
   },
   "outputs": [
    {
     "name": "stdout",
     "output_type": "stream",
     "text": [
      "2337\n"
     ]
    }
   ],
   "source": [
    "skyscrapers = skyscrapers.dropna(subset=['completed'])\n",
    "skyscrapers = skyscrapers[skyscrapers['height'] > 50]\n",
    "print len(skyscrapers)"
   ]
  },
  {
   "cell_type": "markdown",
   "metadata": {},
   "source": [
    "Let's see the breakdown of how many skyscrapers each city in the database has."
   ]
  },
  {
   "cell_type": "code",
   "execution_count": 20,
   "metadata": {
    "collapsed": false
   },
   "outputs": [
    {
     "name": "stdout",
     "output_type": "stream",
     "text": [
      "New York City        639\n",
      "Chicago              391\n",
      "Miami                117\n",
      "San Francisco         74\n",
      "Seattle               69\n",
      "Houston               66\n",
      "Honolulu              57\n",
      "Los Angeles           51\n",
      "Las Vegas             45\n",
      "Minneapolis           39\n",
      "Pittsburgh            38\n",
      "Boston                38\n",
      "Philadelphia          37\n",
      "Atlanta               37\n",
      "Dallas                25\n",
      "Sunny Isles Beach     25\n",
      "Detroit               24\n",
      "San Diego             23\n",
      "Austin                22\n",
      "Jersey City           21\n",
      "Miami Beach           19\n",
      "Cleveland             18\n",
      "Indianapolis          16\n",
      "Baltimore             16\n",
      "Phoenix               15\n",
      "Milwaukee             14\n",
      "St. Louis             14\n",
      "Cincinnati            13\n",
      "Denver                12\n",
      "Columbus              12\n",
      "                    ... \n",
      "Oakbrook               1\n",
      "Ventnor City           1\n",
      "Portsmouth (RI)        1\n",
      "Waco                   1\n",
      "McAllen                1\n",
      "Bismarck               1\n",
      "Lubbock                1\n",
      "Orange Beach           1\n",
      "Portland (ME)          1\n",
      "Itasca                 1\n",
      "Meridian               1\n",
      "Aventura               1\n",
      "Anchorage              1\n",
      "Billings               1\n",
      "New Brunswick          1\n",
      "Michigan City          1\n",
      "Biloxi                 1\n",
      "Boca Raton             1\n",
      "Riviera Beach          1\n",
      "Alexandria (VA)        1\n",
      "Lexington              1\n",
      "Washington D.C.        1\n",
      "Lincoln (NE)           1\n",
      "Mobile                 1\n",
      "Newport                1\n",
      "Charleston             1\n",
      "Tucson                 1\n",
      "Virginia Beach         1\n",
      "Burbank                1\n",
      "Roanoke                1\n",
      "Name: city, dtype: int64\n"
     ]
    }
   ],
   "source": [
    "skyscrapers_counts = skyscrapers['city'].value_counts()\n",
    "print skyscrapers_counts\n"
   ]
  },
  {
   "cell_type": "markdown",
   "metadata": {},
   "source": [
    "_How many skyscrapers are in the United States currently?_"
   ]
  },
  {
   "cell_type": "code",
   "execution_count": 21,
   "metadata": {
    "collapsed": false
   },
   "outputs": [
    {
     "name": "stdout",
     "output_type": "stream",
     "text": [
      "2296\n"
     ]
    }
   ],
   "source": [
    "print len(skyscrapers[skyscrapers['dem'].isnull()])"
   ]
  },
  {
   "cell_type": "markdown",
   "metadata": {},
   "source": [
    "## Create JSON"
   ]
  },
  {
   "cell_type": "code",
   "execution_count": 12,
   "metadata": {
    "collapsed": false
   },
   "outputs": [],
   "source": [
    "# Create dict of average latitude and longitudes for each city for plotting on the map\n",
    "city_info = skyscrapers[(skyscrapers['latitude'] != 0) & (skyscrapers['longitude'] != 0)].pivot_table(index=['city_locode', 'city'], values=['latitude', 'longitude'], aggfunc='mean')\n",
    "city_info.reset_index(inplace=True)\n",
    "city_info.set_index('city_locode', inplace=True)\n",
    "city_info = city_info.rename(columns={'latitude': 'lat', 'longitude': 'lon', 'city_locode': 'c'})\n",
    "skyscraper_info = skyscrapers[['name', 'completed', 'dem', 'city_locode', 'height']].rename(columns={'name': 'n', 'completed': 's', 'dem': 'e', 'city_locode': 'c', 'height': 'h'})\n",
    "skyscraper_info['s'] = skyscraper_info['s'].astype(int)\n",
    "\n",
    "n = len(skyscraper_info)\n",
    "with open('json/skyscrapers.json', 'wa') as f:\n",
    "    f.write('{\"city_info\": ')\n",
    "    f.write(city_info.to_json(orient='index'))\n",
    "    f.write(\",\")\n",
    "    f.write('\"skyscrapers\": [')\n",
    "    for i, r in skyscraper_info.iterrows():\n",
    "        if str(r['e']) == 'nan':\n",
    "            f.write(r[['n', 'h', 's', 'c']].to_json())\n",
    "        else:\n",
    "            f.write(r[['n', 'h', 's', 'c', 'e']].to_json())\n",
    "        f.write(\",\")\n",
    "    f.write(\"]}\")\n"
   ]
  },
  {
   "cell_type": "markdown",
   "metadata": {},
   "source": [
    "## References\n",
    "\n",
    "* [http://skyscrapercenter.com](http://skyscrapercenter.com/)\n",
    "* [https://en.wikipedia.org/wiki/Skyscraper](https://en.wikipedia.org/wiki/Skyscraper)"
   ]
  },
  {
   "cell_type": "code",
   "execution_count": null,
   "metadata": {
    "collapsed": true
   },
   "outputs": [],
   "source": []
  }
 ],
 "metadata": {
  "kernelspec": {
   "display_name": "Python 2",
   "language": "python",
   "name": "python2"
  },
  "language_info": {
   "codemirror_mode": {
    "name": "ipython",
    "version": 2
   },
   "file_extension": ".py",
   "mimetype": "text/x-python",
   "name": "python",
   "nbconvert_exporter": "python",
   "pygments_lexer": "ipython2",
   "version": "2.7.10"
  }
 },
 "nbformat": 4,
 "nbformat_minor": 0
}
