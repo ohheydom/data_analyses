{
 "cells": [
  {
   "cell_type": "markdown",
   "metadata": {},
   "source": [
    "# Mapping the Battles of the American Civil War"
   ]
  },
  {
   "cell_type": "code",
   "execution_count": 1,
   "metadata": {
    "collapsed": false
   },
   "outputs": [
    {
     "name": "stdout",
     "output_type": "stream",
     "text": [
      "conflict       Action at Chester Station\n",
      "city                             Chester\n",
      "state                                 VA\n",
      "latitude                         37.3529\n",
      "longitude                       -77.4123\n",
      "start_year                          1864\n",
      "start_month                            5\n",
      "start_day                             10\n",
      "end_year                            1864\n",
      "end_month                              5\n",
      "end_day                               10\n",
      "combatants                             1\n",
      "result                                 4\n",
      "u_strength                          3400\n",
      "c_strength                          2000\n",
      "i_strength                              \n",
      "uc_wounded                              \n",
      "uc_captured                             \n",
      "uc_killed                               \n",
      "uc_total                             280\n",
      "cc_wounded                              \n",
      "cc_captured                             \n",
      "cc_killed                               \n",
      "cc_total                             249\n",
      "ic_wounded                              \n",
      "ic_captured                             \n",
      "ic_killed                               \n",
      "ic_total                                \n",
      "a_wounded                               \n",
      "a_captured                              \n",
      "a_killed                                \n",
      "a_total                                 \n",
      "Name: 0, dtype: object\n"
     ]
    }
   ],
   "source": [
    "import pandas as pd\n",
    "import numpy as np\n",
    "\n",
    "battles = pd.read_csv('csv/civil_war_battles.csv')\n",
    "battles.fillna('', inplace= True)\n",
    "# Remove New York Draft Riots (not a battle) and Battle of Cherbourg (location near France and not on map)\n",
    "battles = battles[~battles['conflict'].isin(['New York Draft Riots', 'Battle of Cherbourg'])]\n",
    "print battles.loc[0]"
   ]
  },
  {
   "cell_type": "markdown",
   "metadata": {},
   "source": [
    "## Create JSON"
   ]
  },
  {
   "cell_type": "code",
   "execution_count": 2,
   "metadata": {
    "collapsed": false
   },
   "outputs": [],
   "source": [
    "import json\n",
    "\n",
    "map_data = []\n",
    "\n",
    "for _, r in battles.iterrows():\n",
    "    battle = {}\n",
    "    battle['title'] = r['conflict']\n",
    "    battle['coords'] = {'lat': r['latitude'], 'lon': r['longitude']}\n",
    "    battle['victor'] = r['result']\n",
    "    start_date = '{}/{}/{}'.format(r['start_month'], int(r['start_day']), r['start_year'])\n",
    "    end_date = '{}/{}/{}'.format(r['end_month'], int(r['end_day']), r['end_year'])\n",
    "    battle['startDate'] = start_date\n",
    "    if start_date != end_date:\n",
    "        battle['endDate'] = end_date\n",
    "    casualties1 = {}\n",
    "    casualties2 = {}\n",
    "    if r['combatants'] == 1: #Union v Confederacy\n",
    "        casualties1['comb'] = 'Union'\n",
    "        casualties2['comb'] = 'Confederacy'\n",
    "        \n",
    "        casualties1['w'] = r['uc_wounded']\n",
    "        casualties2['w'] = r['cc_wounded']\n",
    "        \n",
    "        casualties1['c'] = r['uc_captured']\n",
    "        casualties2['c'] = r['cc_captured']\n",
    "        \n",
    "        casualties1['k'] = r['uc_killed']\n",
    "        casualties2['k'] = r['cc_killed']\n",
    "        \n",
    "        casualties1['t'] = r['uc_total']\n",
    "        casualties2['t'] = r['cc_total']\n",
    "    if r['combatants'] == 2: #Union v Indians\n",
    "        casualties1['comb'] = 'Union'\n",
    "        casualties2['comb'] = 'Indians'\n",
    "        \n",
    "        casualties1['w'] = r['uc_wounded']\n",
    "        casualties2['w'] = r['ic_wounded']\n",
    "        \n",
    "        casualties1['c'] = r['uc_captured']\n",
    "        casualties2['c'] = r['ic_captured']\n",
    "        \n",
    "        casualties1['k'] = r['uc_killed']\n",
    "        casualties2['k'] = r['ic_killed']\n",
    "        \n",
    "        casualties1['t'] = r['uc_total']\n",
    "        casualties2['t'] = r['ic_total']\n",
    "    if r['combatants'] == 3: #Confederacy v Indians\n",
    "        casualties1['comb'] = 'Confederacy'\n",
    "        casualties2['comb'] = 'Indians'\n",
    "        \n",
    "        casualties1['w'] = r['cc_wounded']\n",
    "        casualties2['w'] = r['ic_wounded']\n",
    "        \n",
    "        casualties1['c'] = r['cc_captured']\n",
    "        casualties2['c'] = r['ic_captured']\n",
    "        \n",
    "        casualties1['k'] = r['cc_killed']\n",
    "        casualties2['k'] = r['ic_killed']\n",
    "        \n",
    "        casualties1['t'] = r['cc_total']\n",
    "        casualties2['t'] = r['ic_total']\n",
    "    \n",
    "    battle['casualties'] = [casualties1, casualties2]\n",
    "    map_data.append(battle)\n",
    "\n",
    "d = {'map': map_data}\n",
    "\n",
    "with open('json/civil_war_battles.json', 'w') as f:\n",
    "    f.write(json.dumps(d, sort_keys=True))"
   ]
  },
  {
   "cell_type": "markdown",
   "metadata": {},
   "source": [
    "## Conclusion"
   ]
  },
  {
   "cell_type": "markdown",
   "metadata": {},
   "source": [
    "## Resources\n",
    "\n",
    "* [Civil War Army Organization](http://www.civilwar.org/education/history/army-organization/)\n",
    "* [List of American Civil War Battles](https://en.wikipedia.org/wiki/List_of_American_Civil_War_battles)\n",
    "* [Casualty Statistics](http://necrometrics.com/warsusa.htm)"
   ]
  }
 ],
 "metadata": {
  "kernelspec": {
   "display_name": "Python 2",
   "language": "python",
   "name": "python2"
  },
  "language_info": {
   "codemirror_mode": {
    "name": "ipython",
    "version": 2
   },
   "file_extension": ".py",
   "mimetype": "text/x-python",
   "name": "python",
   "nbconvert_exporter": "python",
   "pygments_lexer": "ipython2",
   "version": "2.7.10"
  }
 },
 "nbformat": 4,
 "nbformat_minor": 0
}
